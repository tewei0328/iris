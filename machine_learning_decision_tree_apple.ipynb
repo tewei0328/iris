{
  "nbformat": 4,
  "nbformat_minor": 0,
  "metadata": {
    "colab": {
      "name": "machine learning-decision tree-apple.ipynb",
      "version": "0.3.2",
      "provenance": [],
      "include_colab_link": true
    },
    "kernelspec": {
      "name": "python3",
      "display_name": "Python 3"
    }
  },
  "cells": [
    {
      "cell_type": "markdown",
      "metadata": {
        "id": "view-in-github",
        "colab_type": "text"
      },
      "source": [
        "<a href=\"https://colab.research.google.com/github/tewei0328/iris/blob/master/machine_learning_decision_tree_apple.ipynb\" target=\"_parent\"><img src=\"https://colab.research.google.com/assets/colab-badge.svg\" alt=\"Open In Colab\"/></a>"
      ]
    },
    {
      "metadata": {
        "id": "tybLmp2bx3bO",
        "colab_type": "text"
      },
      "cell_type": "markdown",
      "source": [
        "# 機器學習：特徵與標籤！\n",
        "https://ithelp.ithome.com.tw/articles/10197029"
      ]
    },
    {
      "metadata": {
        "id": "vUZSYm1Iw8wQ",
        "colab_type": "code",
        "outputId": "0ebd3b7c-cfc3-4da2-83ca-81e7867f429f",
        "colab": {
          "base_uri": "https://localhost:8080/",
          "height": 34
        }
      },
      "cell_type": "code",
      "source": [
        "from sklearn import tree \n",
        "features = [[150,1],[170,1],[130,0],[140,0]]\n",
        "labels = [0,0,1,1]\n",
        "\n",
        "clf = tree.DecisionTreeClassifier()\n",
        "clf = clf.fit(features,labels)\n",
        "\n",
        "wantPredict = clf.predict([[120,0]]) \n",
        "if wantPredict == [1]:\n",
        "    print('This is an apple')\n",
        "elif wantPredict == [0]:\n",
        "    print('This is an orange')"
      ],
      "execution_count": 0,
      "outputs": [
        {
          "output_type": "stream",
          "text": [
            "This is an apple\n"
          ],
          "name": "stdout"
        }
      ]
    }
  ]
}